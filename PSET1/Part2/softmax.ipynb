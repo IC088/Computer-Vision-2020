{
 "cells": [
  {
   "cell_type": "markdown",
   "metadata": {},
   "source": [
    "# Softmax exercise\n",
    "\n",
    "*Complete and hand in this completed worksheet (including its outputs and any supporting code outside of the worksheet) with your assignment submission.*\n",
    "\n",
    "In this exercise, you will:\n",
    "\n",
    "- implement a fully-vectorized **loss function** for the Softmax classifier\n",
    "- implement the fully-vectorized expression for its **analytic gradient**\n",
    "- **check your implementation** with numerical gradient\n",
    "- use a validation set to **tune the learning rate and regularization** strength\n",
    "- **optimize** the loss function with **SGD**\n",
    "- **visualize** the final learned weights\n"
   ]
  },
  {
   "cell_type": "markdown",
   "metadata": {},
   "source": [
    "**Acknowledgement: This exercise is adapted from [Stanford CS231n](http://cs231n.stanford.edu/).**"
   ]
  },
  {
   "cell_type": "code",
   "execution_count": 1,
   "metadata": {},
   "outputs": [],
   "source": [
    "import random\n",
    "import numpy as np\n",
    "from data_utils import load_CIFAR10\n",
    "import matplotlib.pyplot as plt\n",
    "\n",
    "%matplotlib inline\n",
    "plt.rcParams['figure.figsize'] = (10.0, 8.0) # set default size of plots\n",
    "plt.rcParams['image.interpolation'] = 'nearest'\n",
    "plt.rcParams['image.cmap'] = 'gray'\n",
    "\n",
    "# for auto-reloading extenrnal modules\n",
    "# see http://stackoverflow.com/questions/1907993/autoreload-of-modules-in-ipython\n",
    "%load_ext autoreload\n",
    "%autoreload 2"
   ]
  },
  {
   "cell_type": "code",
   "execution_count": 2,
   "metadata": {},
   "outputs": [],
   "source": [
    "def rel_error(out, correct_out):\n",
    "    return np.sum(abs(out - correct_out) / (abs(out) + abs(correct_out)))"
   ]
  },
  {
   "cell_type": "code",
   "execution_count": 3,
   "metadata": {},
   "outputs": [
    {
     "name": "stdout",
     "output_type": "stream",
     "text": [
      "Train data shape:  (49000, 3073)\n",
      "Train labels shape:  (49000,)\n",
      "Validation data shape:  (1000, 3073)\n",
      "Validation labels shape:  (1000,)\n",
      "Test data shape:  (1000, 3073)\n",
      "Test labels shape:  (1000,)\n",
      "dev data shape:  (500, 3073)\n",
      "dev labels shape:  (500,)\n"
     ]
    }
   ],
   "source": [
    "def get_CIFAR10_data(num_training=49000, num_validation=1000, num_test=1000, num_dev=500):\n",
    "    \"\"\"\n",
    "    Load the CIFAR-10 dataset from disk and perform preprocessing to prepare\n",
    "    it for the linear classifier. These are the same steps as we used for the\n",
    "    Softmax, but condensed to a single function.  \n",
    "    \"\"\"\n",
    "    # Load the raw CIFAR-10 data\n",
    "    cifar10_dir = 'datasets/cifar-10-batches-py'\n",
    "    X_train, y_train, X_test, y_test = load_CIFAR10(cifar10_dir)\n",
    "\n",
    "    # subsample the data\n",
    "    mask = range(num_training, num_training + num_validation)\n",
    "    X_val = X_train[mask]\n",
    "    y_val = y_train[mask]\n",
    "    mask = range(num_training)\n",
    "    X_train = X_train[mask]\n",
    "    y_train = y_train[mask]\n",
    "    mask = range(num_test)\n",
    "    X_test = X_test[mask]\n",
    "    y_test = y_test[mask]\n",
    "    \n",
    "    # # We will also make a development set, which is a small subset of\n",
    "    # the training set.\n",
    "    mask = np.random.choice(num_training, num_dev, replace=False)\n",
    "    X_dev = X_train[mask]\n",
    "    y_dev = y_train[mask]\n",
    "\n",
    "    # Preprocessing: reshape the image data into rows\n",
    "    X_train = np.reshape(X_train, (X_train.shape[0], -1))\n",
    "    X_val = np.reshape(X_val, (X_val.shape[0], -1))\n",
    "    X_test = np.reshape(X_test, (X_test.shape[0], -1))\n",
    "    X_dev = np.reshape(X_dev, (X_dev.shape[0], -1))\n",
    "\n",
    "    # Normalize the data: subtract the mean image\n",
    "    mean_image = np.mean(X_train, axis = 0)\n",
    "    X_train -= mean_image\n",
    "    X_val -= mean_image\n",
    "    X_test -= mean_image\n",
    "    X_dev -= mean_image\n",
    "\n",
    "    # add bias dimension and transform into columns\n",
    "    X_train = np.hstack([X_train, np.ones((X_train.shape[0], 1))])\n",
    "    X_val = np.hstack([X_val, np.ones((X_val.shape[0], 1))])\n",
    "    X_test = np.hstack([X_test, np.ones((X_test.shape[0], 1))])\n",
    "    X_dev = np.hstack([X_dev, np.ones((X_dev.shape[0], 1))])\n",
    "\n",
    "    return X_train, y_train, X_val, y_val, X_test, y_test, X_dev, y_dev\n",
    "\n",
    "\n",
    "# Invoke the above function to get our data.\n",
    "X_train, y_train, X_val, y_val, X_test, y_test, X_dev, y_dev = get_CIFAR10_data()\n",
    "print('Train data shape: ', X_train.shape)\n",
    "print('Train labels shape: ', y_train.shape)\n",
    "print('Validation data shape: ', X_val.shape)\n",
    "print('Validation labels shape: ', y_val.shape)\n",
    "print('Test data shape: ', X_test.shape)\n",
    "print('Test labels shape: ', y_test.shape)\n",
    "print('dev data shape: ', X_dev.shape)\n",
    "print('dev labels shape: ', y_dev.shape)"
   ]
  },
  {
   "cell_type": "code",
   "execution_count": 4,
   "metadata": {},
   "outputs": [],
   "source": [
    "# Create one-hot vectors for label\n",
    "num_class = 10\n",
    "y_train_oh = np.zeros((y_train.shape[0], 10))\n",
    "y_train_oh[np.arange(y_train.shape[0]), y_train] = 1\n",
    "y_val_oh = np.zeros((y_val.shape[0], 10))\n",
    "y_val_oh[np.arange(y_val.shape[0]), y_val] = 1\n",
    "y_test_oh = np.zeros((y_test.shape[0], 10))\n",
    "y_test_oh[np.arange(y_test.shape[0]), y_test] = 1\n",
    "\n",
    "y_dev_oh = np.zeros((y_dev.shape[0], 10))\n",
    "y_dev_oh[np.arange(y_dev.shape[0]), y_dev] = 1"
   ]
  },
  {
   "cell_type": "markdown",
   "metadata": {},
   "source": [
    "# Regression as classifier\n",
    "The most simple and straightforward approach to learn a classifier is to map the input data (raw image values) to class label (one-hot vector). The loss function is defined as following: \n",
    "$$\\mathcal{L}=\\frac{1}{n}\\|\\mathbf{X}\\mathbf{W}-\\mathbf{y}\\|_F^2\\qquad\\qquad(1)$$\n",
    "Where:\n",
    "* $\\mathbf{W}\\in \\mathbb{R}^{(d+1)\\times C}$: Classifier weight\n",
    "* $\\mathbf{X}\\in \\mathbb{R}^{n\\times (d+1)}$: Dataset\n",
    "* $\\mathbf{y}\\in \\mathbb{R}^{n\\times C}$: Class label (one-hot vector)"
   ]
  },
  {
   "cell_type": "markdown",
   "metadata": {},
   "source": [
    "# Optimization\n",
    "Given the loss function (1), the next problem is how to solve the weight $\\mathbf{W}$. We now discuss 2 approaches: \n",
    " * Random search\n",
    " * Closed-form solution\n",
    "\n",
    "## Random search"
   ]
  },
  {
   "cell_type": "code",
   "execution_count": 5,
   "metadata": {},
   "outputs": [
    {
     "name": "stdout",
     "output_type": "stream",
     "text": [
      "in attempt 0 the loss was 34.089892, best 34.089892\n",
      "in attempt 1 the loss was 33.317035, best 33.317035\n",
      "in attempt 2 the loss was 34.739102, best 33.317035\n",
      "in attempt 3 the loss was 34.222779, best 33.317035\n",
      "in attempt 4 the loss was 33.387870, best 33.317035\n",
      "in attempt 5 the loss was 36.257097, best 33.317035\n",
      "in attempt 6 the loss was 32.213002, best 32.213002\n",
      "in attempt 7 the loss was 32.952063, best 32.213002\n",
      "in attempt 8 the loss was 31.593698, best 31.593698\n",
      "in attempt 9 the loss was 31.667647, best 31.593698\n",
      "in attempt 10 the loss was 34.097187, best 31.593698\n",
      "in attempt 11 the loss was 31.887105, best 31.593698\n",
      "in attempt 12 the loss was 36.492643, best 31.593698\n",
      "in attempt 13 the loss was 34.270947, best 31.593698\n",
      "in attempt 14 the loss was 33.433253, best 31.593698\n",
      "in attempt 15 the loss was 33.952802, best 31.593698\n",
      "in attempt 16 the loss was 33.751417, best 31.593698\n",
      "in attempt 17 the loss was 33.388904, best 31.593698\n",
      "in attempt 18 the loss was 32.744884, best 31.593698\n",
      "in attempt 19 the loss was 34.607510, best 31.593698\n",
      "in attempt 20 the loss was 32.284943, best 31.593698\n",
      "in attempt 21 the loss was 33.527439, best 31.593698\n",
      "in attempt 22 the loss was 32.057439, best 31.593698\n",
      "in attempt 23 the loss was 32.100229, best 31.593698\n",
      "in attempt 24 the loss was 33.666132, best 31.593698\n",
      "in attempt 25 the loss was 33.489486, best 31.593698\n",
      "in attempt 26 the loss was 32.852487, best 31.593698\n",
      "in attempt 27 the loss was 35.294095, best 31.593698\n",
      "in attempt 28 the loss was 31.829125, best 31.593698\n",
      "in attempt 29 the loss was 33.014453, best 31.593698\n",
      "in attempt 30 the loss was 31.234527, best 31.234527\n",
      "in attempt 31 the loss was 34.101117, best 31.234527\n",
      "in attempt 32 the loss was 35.048470, best 31.234527\n",
      "in attempt 33 the loss was 31.321781, best 31.234527\n",
      "in attempt 34 the loss was 33.260795, best 31.234527\n",
      "in attempt 35 the loss was 34.026671, best 31.234527\n",
      "in attempt 36 the loss was 30.950717, best 30.950717\n",
      "in attempt 37 the loss was 33.531812, best 30.950717\n",
      "in attempt 38 the loss was 33.560494, best 30.950717\n",
      "in attempt 39 the loss was 33.802183, best 30.950717\n",
      "in attempt 40 the loss was 31.568071, best 30.950717\n",
      "in attempt 41 the loss was 33.645572, best 30.950717\n",
      "in attempt 42 the loss was 32.564516, best 30.950717\n",
      "in attempt 43 the loss was 31.956999, best 30.950717\n",
      "in attempt 44 the loss was 34.929076, best 30.950717\n",
      "in attempt 45 the loss was 31.792843, best 30.950717\n",
      "in attempt 46 the loss was 31.048037, best 30.950717\n",
      "in attempt 47 the loss was 33.192171, best 30.950717\n",
      "in attempt 48 the loss was 32.341825, best 30.950717\n",
      "in attempt 49 the loss was 32.630089, best 30.950717\n",
      "in attempt 50 the loss was 33.702565, best 30.950717\n",
      "in attempt 51 the loss was 30.864051, best 30.864051\n",
      "in attempt 52 the loss was 33.937175, best 30.864051\n",
      "in attempt 53 the loss was 33.377911, best 30.864051\n",
      "in attempt 54 the loss was 33.723648, best 30.864051\n",
      "in attempt 55 the loss was 38.773536, best 30.864051\n",
      "in attempt 56 the loss was 35.638701, best 30.864051\n",
      "in attempt 57 the loss was 31.646229, best 30.864051\n",
      "in attempt 58 the loss was 31.748015, best 30.864051\n",
      "in attempt 59 the loss was 32.892514, best 30.864051\n",
      "in attempt 60 the loss was 31.702543, best 30.864051\n",
      "in attempt 61 the loss was 34.319124, best 30.864051\n",
      "in attempt 62 the loss was 34.618386, best 30.864051\n",
      "in attempt 63 the loss was 33.481207, best 30.864051\n",
      "in attempt 64 the loss was 34.826896, best 30.864051\n",
      "in attempt 65 the loss was 36.216795, best 30.864051\n",
      "in attempt 66 the loss was 31.161380, best 30.864051\n",
      "in attempt 67 the loss was 31.340703, best 30.864051\n",
      "in attempt 68 the loss was 32.377825, best 30.864051\n",
      "in attempt 69 the loss was 35.982609, best 30.864051\n",
      "in attempt 70 the loss was 33.723317, best 30.864051\n",
      "in attempt 71 the loss was 31.401767, best 30.864051\n",
      "in attempt 72 the loss was 37.084894, best 30.864051\n",
      "in attempt 73 the loss was 36.573019, best 30.864051\n",
      "in attempt 74 the loss was 34.594125, best 30.864051\n",
      "in attempt 75 the loss was 33.737149, best 30.864051\n",
      "in attempt 76 the loss was 32.695666, best 30.864051\n",
      "in attempt 77 the loss was 34.226986, best 30.864051\n",
      "in attempt 78 the loss was 37.069898, best 30.864051\n",
      "in attempt 79 the loss was 33.692820, best 30.864051\n",
      "in attempt 80 the loss was 33.300735, best 30.864051\n",
      "in attempt 81 the loss was 34.662435, best 30.864051\n",
      "in attempt 82 the loss was 34.221144, best 30.864051\n",
      "in attempt 83 the loss was 33.762453, best 30.864051\n",
      "in attempt 84 the loss was 34.380501, best 30.864051\n",
      "in attempt 85 the loss was 33.130920, best 30.864051\n",
      "in attempt 86 the loss was 33.834336, best 30.864051\n",
      "in attempt 87 the loss was 30.845988, best 30.845988\n",
      "in attempt 88 the loss was 32.908118, best 30.845988\n",
      "in attempt 89 the loss was 34.837285, best 30.845988\n",
      "in attempt 90 the loss was 32.380182, best 30.845988\n",
      "in attempt 91 the loss was 31.518990, best 30.845988\n",
      "in attempt 92 the loss was 34.566771, best 30.845988\n",
      "in attempt 93 the loss was 35.159568, best 30.845988\n",
      "in attempt 94 the loss was 35.036820, best 30.845988\n",
      "in attempt 95 the loss was 32.735720, best 30.845988\n",
      "in attempt 96 the loss was 32.556110, best 30.845988\n",
      "in attempt 97 the loss was 36.894083, best 30.845988\n",
      "in attempt 98 the loss was 33.484266, best 30.845988\n",
      "in attempt 99 the loss was 33.354462, best 30.845988\n"
     ]
    }
   ],
   "source": [
    "bestloss = float('inf')\n",
    "for num in range(100):\n",
    "    W = np.random.randn(3073, 10) * 0.0001\n",
    "    loss = np.linalg.norm(X_dev.dot(W) - y_dev_oh)\n",
    "    if (loss < bestloss):\n",
    "        bestloss = loss\n",
    "        bestW = W\n",
    "    print('in attempt %d the loss was %f, best %f' % (num, loss, bestloss))"
   ]
  },
  {
   "cell_type": "code",
   "execution_count": 6,
   "metadata": {},
   "outputs": [
    {
     "name": "stdout",
     "output_type": "stream",
     "text": [
      "Accuracy on train set:  13.600000000000001\n",
      "Accuracy on test set:  11.4\n"
     ]
    }
   ],
   "source": [
    "# How bestW perform:\n",
    "print('Accuracy on train set: ', np.sum(np.argmin(np.abs(1 - X_dev.dot(W)), axis=1) == y_dev).astype(np.float32)/y_dev.shape[0]*100)\n",
    "print('Accuracy on test set: ', np.sum(np.argmin(np.abs(1 - X_test.dot(W)), axis=1) == y_test).astype(np.float32)/y_test.shape[0]*100)"
   ]
  },
  {
   "cell_type": "markdown",
   "metadata": {},
   "source": [
    "You can clearly see that the performance is very low, almost at the random level."
   ]
  },
  {
   "cell_type": "markdown",
   "metadata": {},
   "source": [
    "## Closed-form solution\n",
    "The closed-form solution is achieved by:\n",
    "$$\\frac{\\partial\\mathcal{L}}{\\partial \\mathbf{W}}=\\frac{2}{n}\\mathbf{X}^T(\\mathbf{X}\\mathbf{W}-\\mathbf{y})=0$$\n",
    "\n",
    "$$\\Leftrightarrow\\mathbf{W}^\\ast=(\\mathbf{X}^T\\mathbf{X})^{-1}\\mathbf{X}^T\\mathbf{y}$$"
   ]
  },
  {
   "cell_type": "code",
   "execution_count": 22,
   "metadata": {},
   "outputs": [],
   "source": [
    "################################################################################\n",
    "# TODO:                                                                        #\n",
    "# Implement the closed-form solution of the weight W.                          #\n",
    "################################################################################\n",
    "def closed_form_colution(X,y):\n",
    "    \n",
    "    W_star = (np.linalg.inv(X.transpose().dot(X))).dot((X.transpose()).dot(y))\n",
    "    \n",
    "    return W_star\n",
    "W = closed_form_colution(X_train, y_train_oh)\n",
    "################################################################################\n",
    "#                              END OF YOUR CODE                                #\n",
    "################################################################################"
   ]
  },
  {
   "cell_type": "code",
   "execution_count": 23,
   "metadata": {},
   "outputs": [
    {
     "name": "stdout",
     "output_type": "stream",
     "text": [
      "Train set accuracy:  51.163265306122454\n",
      "Test set accuracy:  36.199999999999996\n"
     ]
    }
   ],
   "source": [
    "# Check accuracy:\n",
    "print('Train set accuracy: ', np.sum(np.argmin(np.abs(1 - X_train.dot(W)), axis=1) == y_train).astype(np.float32)/y_train.shape[0]*100)\n",
    "print('Test set accuracy: ', np.sum(np.argmin(np.abs(1 - X_test.dot(W)), axis=1) == y_test).astype(np.float32)/y_test.shape[0]*100)"
   ]
  },
  {
   "cell_type": "markdown",
   "metadata": {},
   "source": [
    "Now, you can see that the performance is much better."
   ]
  },
  {
   "cell_type": "markdown",
   "metadata": {},
   "source": [
    "## Regularization\n",
    "A simple way to improve performance is to include the L2-regularization penalty.\n",
    "$$\\mathcal{L}=\\frac{1}{n}\\|\\mathbf{X}\\mathbf{W}-\\mathbf{y}\\|_F^2 +\\lambda \\|\\mathbf{W}\\|_F^2 \\qquad\\qquad(2)$$\n",
    "The closed-form solution now is: \n",
    "$$\\Leftrightarrow\\mathbf{W}^\\ast=(\\mathbf{X}^T\\mathbf{X}+\\lambda n\\mathbf{I})^{-1}\\mathbf{X}^T\\mathbf{y}$$"
   ]
  },
  {
   "cell_type": "code",
   "execution_count": 28,
   "metadata": {},
   "outputs": [],
   "source": [
    "# try several values of lambda to see how it helps:\n",
    "\n",
    "lambdas = [0.01, 0.1, 1, 10, 100, 1000, 10000, 100000]\n",
    "train_acc = np.zeros((len(lambdas)))\n",
    "test_acc = np.zeros((len(lambdas)))\n",
    "for i in range(len(lambdas)):\n",
    "    l = lambdas[i]\n",
    "    n,d = X_train.shape[0], X_train.shape[1]\n",
    "    ################################################################################\n",
    "    # TODO:                                                                        #\n",
    "    # Implement the closed-form solution of the weight W with regularization.      #\n",
    "    ################################################################################\n",
    "    def reg_closed_form(X, y, l, n, d):\n",
    "        xxt =  np.linalg.inv(X.transpose().dot(X) + l * n * np.identity(d))\n",
    "        xty =  np.dot(X.transpose(), y)\n",
    "\n",
    "        return np.dot(xxt,xty)\n",
    "    W = reg_closed_form(X_dev, y_dev_oh, l, n , d)\n",
    "    ################################################################################\n",
    "    #                              END OF YOUR CODE                                #\n",
    "    ################################################################################\n",
    "    train_acc[i] = np.sum(np.argmin(np.abs(1 - X_train.dot(W)), axis=1) == y_train).astype(np.float32)/y_train.shape[0]*100\n",
    "    test_acc[i]  = np.sum(np.argmin(np.abs(1 - X_test.dot(W)), axis=1) == y_test).astype(np.float32)/y_test.shape[0]*100"
   ]
  },
  {
   "cell_type": "code",
   "execution_count": 29,
   "metadata": {},
   "outputs": [
    {
     "data": {
      "image/png": "[encoded data removed]",
      "text/plain": [
       "<Figure size 720x576 with 1 Axes>"
      ]
     },
     "metadata": {
      "needs_background": "light"
     },
     "output_type": "display_data"
    }
   ],
   "source": [
    "plt.semilogx(lambdas, train_acc, 'r', label=\"Training accuracy\")\n",
    "plt.semilogx(lambdas, test_acc, 'g', label=\"Testing accuracy\")\n",
    "\n",
    "plt.legend()\n",
    "plt.grid(True)\n",
    "plt.show()"
   ]
  },
  {
   "cell_type": "markdown",
   "metadata": {},
   "source": [
    "**Question:** Try to explain why the performances on the training and test set have such behaviors as we change the value of $\\lambda$."
   ]
  },
  {
   "cell_type": "markdown",
   "metadata": {},
   "source": [
    "**Your answer:** lambda is known as the regularisation constant which acts as the constant that prevents overfitting. Increasing the value of lambda, increases the reliance value on W. This increases the training and testing accuracy to a certain point. However, passed a certain point, if hte lambda value is too high it will not learn the features and hence lowering the training accuracy"
   ]
  },
  {
   "cell_type": "markdown",
   "metadata": {},
   "source": [
    "## Softmax Classifier\n",
    "\n",
    "The predicted probability for the $j$-th class given a sample vector $x$ and a weight $W$ is:\n",
    "\n",
    "$$\\displaystyle{P(y=j\\mid x)=\\frac{e^{-xw_j}}{\\sum\\limits_{c=1}^{C}e^{-xw_c}}}$$ \n",
    "\n",
    "![softmax](imgs/softmax.png \"Example of Softmax\")\n",
    "\n",
    "Your code for this section will all be written inside **classifiers/softmax.py**. \n"
   ]
  },
  {
   "cell_type": "code",
   "execution_count": 33,
   "metadata": {
    "scrolled": true
   },
   "outputs": [
    {
     "name": "stdout",
     "output_type": "stream",
     "text": [
      "loss: 2.349796\n",
      "sanity check: 2.302585\n"
     ]
    }
   ],
   "source": [
    "# First implement the naive softmax loss function with nested loops.\n",
    "# Open the file classifiers/softmax.py and implement the\n",
    "# softmax_loss_naive function.\n",
    "\n",
    "from classifiers.softmax import softmax_loss_naive\n",
    "import time\n",
    "\n",
    "# Generate a random softmax weight matrix and use it to compute the loss.\n",
    "W = np.random.randn(3073, 10) * 0.0001\n",
    "loss, grad = softmax_loss_naive(W, X_dev, y_dev, 0.0)\n",
    "\n",
    "# As a rough sanity check, our loss should be something close to -log(0.1).\n",
    "print('loss: %f' % loss)\n",
    "print('sanity check: %f' % (-np.log(0.1)))"
   ]
  },
  {
   "cell_type": "markdown",
   "metadata": {},
   "source": [
    "**Question:** Why do we expect our loss to be close to -log(0.1)? Explain briefly.**"
   ]
  },
  {
   "cell_type": "markdown",
   "metadata": {},
   "source": [
    "**Your answer:** \n",
    "\n",
    "We expect out loss to be close to - log(0.1) because there are 10 classes that needs to be predicted. The probability of choosing a classes and guessiing it correctly is 0.1 and since softmax function is essentially -log(x) where x is the probability, henec the loss should be close to -log(0.1) "
   ]
  },
  {
   "cell_type": "markdown",
   "metadata": {},
   "source": [
    "# Optimization\n",
    "\n",
    "\n",
    "## Random search"
   ]
  },
  {
   "cell_type": "code",
   "execution_count": 34,
   "metadata": {},
   "outputs": [
    {
     "name": "stdout",
     "output_type": "stream",
     "text": [
      "in attempt 0 the loss was 2.364448, best 2.364448\n",
      "in attempt 1 the loss was 2.334261, best 2.334261\n",
      "in attempt 2 the loss was 2.361092, best 2.334261\n",
      "in attempt 3 the loss was 2.375143, best 2.334261\n",
      "in attempt 4 the loss was 2.304287, best 2.304287\n",
      "in attempt 5 the loss was 2.339472, best 2.304287\n",
      "in attempt 6 the loss was 2.370147, best 2.304287\n",
      "in attempt 7 the loss was 2.383124, best 2.304287\n",
      "in attempt 8 the loss was 2.335609, best 2.304287\n",
      "in attempt 9 the loss was 2.415845, best 2.304287\n",
      "in attempt 10 the loss was 2.365794, best 2.304287\n",
      "in attempt 11 the loss was 2.350209, best 2.304287\n",
      "in attempt 12 the loss was 2.383510, best 2.304287\n",
      "in attempt 13 the loss was 2.357130, best 2.304287\n",
      "in attempt 14 the loss was 2.420927, best 2.304287\n",
      "in attempt 15 the loss was 2.442799, best 2.304287\n",
      "in attempt 16 the loss was 2.364687, best 2.304287\n",
      "in attempt 17 the loss was 2.274096, best 2.274096\n",
      "in attempt 18 the loss was 2.336464, best 2.274096\n",
      "in attempt 19 the loss was 2.389692, best 2.274096\n",
      "in attempt 20 the loss was 2.349344, best 2.274096\n",
      "in attempt 21 the loss was 2.391012, best 2.274096\n",
      "in attempt 22 the loss was 2.292074, best 2.274096\n",
      "in attempt 23 the loss was 2.347291, best 2.274096\n",
      "in attempt 24 the loss was 2.367938, best 2.274096\n",
      "in attempt 25 the loss was 2.351251, best 2.274096\n",
      "in attempt 26 the loss was 2.356870, best 2.274096\n",
      "in attempt 27 the loss was 2.394982, best 2.274096\n",
      "in attempt 28 the loss was 2.352639, best 2.274096\n",
      "in attempt 29 the loss was 2.327325, best 2.274096\n",
      "in attempt 30 the loss was 2.370017, best 2.274096\n",
      "in attempt 31 the loss was 2.360747, best 2.274096\n",
      "in attempt 32 the loss was 2.329954, best 2.274096\n",
      "in attempt 33 the loss was 2.330571, best 2.274096\n",
      "in attempt 34 the loss was 2.320960, best 2.274096\n",
      "in attempt 35 the loss was 2.383018, best 2.274096\n",
      "in attempt 36 the loss was 2.336842, best 2.274096\n",
      "in attempt 37 the loss was 2.367234, best 2.274096\n",
      "in attempt 38 the loss was 2.361059, best 2.274096\n",
      "in attempt 39 the loss was 2.345770, best 2.274096\n",
      "in attempt 40 the loss was 2.388476, best 2.274096\n",
      "in attempt 41 the loss was 2.388145, best 2.274096\n",
      "in attempt 42 the loss was 2.366138, best 2.274096\n",
      "in attempt 43 the loss was 2.376308, best 2.274096\n",
      "in attempt 44 the loss was 2.387526, best 2.274096\n",
      "in attempt 45 the loss was 2.346701, best 2.274096\n",
      "in attempt 46 the loss was 2.374308, best 2.274096\n",
      "in attempt 47 the loss was 2.356820, best 2.274096\n",
      "in attempt 48 the loss was 2.339969, best 2.274096\n",
      "in attempt 49 the loss was 2.378720, best 2.274096\n",
      "in attempt 50 the loss was 2.388449, best 2.274096\n",
      "in attempt 51 the loss was 2.335003, best 2.274096\n",
      "in attempt 52 the loss was 2.310671, best 2.274096\n",
      "in attempt 53 the loss was 2.371702, best 2.274096\n",
      "in attempt 54 the loss was 2.321845, best 2.274096\n",
      "in attempt 55 the loss was 2.324187, best 2.274096\n",
      "in attempt 56 the loss was 2.327287, best 2.274096\n",
      "in attempt 57 the loss was 2.328674, best 2.274096\n",
      "in attempt 58 the loss was 2.304539, best 2.274096\n",
      "in attempt 59 the loss was 2.377741, best 2.274096\n",
      "in attempt 60 the loss was 2.331933, best 2.274096\n",
      "in attempt 61 the loss was 2.304308, best 2.274096\n",
      "in attempt 62 the loss was 2.349885, best 2.274096\n",
      "in attempt 63 the loss was 2.440385, best 2.274096\n",
      "in attempt 64 the loss was 2.329064, best 2.274096\n",
      "in attempt 65 the loss was 2.451880, best 2.274096\n",
      "in attempt 66 the loss was 2.394482, best 2.274096\n",
      "in attempt 67 the loss was 2.311310, best 2.274096\n",
      "in attempt 68 the loss was 2.372861, best 2.274096\n",
      "in attempt 69 the loss was 2.331927, best 2.274096\n",
      "in attempt 70 the loss was 2.399463, best 2.274096\n",
      "in attempt 71 the loss was 2.329148, best 2.274096\n",
      "in attempt 72 the loss was 2.335722, best 2.274096\n",
      "in attempt 73 the loss was 2.382731, best 2.274096\n",
      "in attempt 74 the loss was 2.333155, best 2.274096\n",
      "in attempt 75 the loss was 2.349491, best 2.274096\n",
      "in attempt 76 the loss was 2.328467, best 2.274096\n",
      "in attempt 77 the loss was 2.320188, best 2.274096\n",
      "in attempt 78 the loss was 2.326693, best 2.274096\n",
      "in attempt 79 the loss was 2.294510, best 2.274096\n",
      "in attempt 80 the loss was 2.423652, best 2.274096\n",
      "in attempt 81 the loss was 2.371229, best 2.274096\n",
      "in attempt 82 the loss was 2.377570, best 2.274096\n",
      "in attempt 83 the loss was 2.392220, best 2.274096\n",
      "in attempt 84 the loss was 2.413099, best 2.274096\n",
      "in attempt 85 the loss was 2.363915, best 2.274096\n",
      "in attempt 86 the loss was 2.372906, best 2.274096\n",
      "in attempt 87 the loss was 2.371603, best 2.274096\n",
      "in attempt 88 the loss was 2.300452, best 2.274096\n",
      "in attempt 89 the loss was 2.322942, best 2.274096\n",
      "in attempt 90 the loss was 2.368167, best 2.274096\n",
      "in attempt 91 the loss was 2.370612, best 2.274096\n",
      "in attempt 92 the loss was 2.347802, best 2.274096\n",
      "in attempt 93 the loss was 2.302746, best 2.274096\n",
      "in attempt 94 the loss was 2.397801, best 2.274096\n",
      "in attempt 95 the loss was 2.356526, best 2.274096\n",
      "in attempt 96 the loss was 2.347064, best 2.274096\n",
      "in attempt 97 the loss was 2.359645, best 2.274096\n",
      "in attempt 98 the loss was 2.428211, best 2.274096\n",
      "in attempt 99 the loss was 2.312146, best 2.274096\n"
     ]
    }
   ],
   "source": [
    "bestloss = float('inf')\n",
    "for num in range(100):\n",
    "    W = np.random.randn(3073, 10) * 0.0001\n",
    "    loss, _ = softmax_loss_naive(W, X_dev, y_dev, 0.0)\n",
    "    if (loss < bestloss):\n",
    "        bestloss = loss\n",
    "        bestW = W\n",
    "    print('in attempt %d the loss was %f, best %f' % (num, loss, bestloss))"
   ]
  },
  {
   "cell_type": "code",
   "execution_count": 35,
   "metadata": {},
   "outputs": [
    {
     "name": "stdout",
     "output_type": "stream",
     "text": [
      "Accuracy on train set 0.122980\n",
      "Accuracy on test set 0.121000\n"
     ]
    }
   ],
   "source": [
    "# How bestW perform on trainset\n",
    "scores = X_train.dot(bestW)\n",
    "y_pred = np.argmax(scores, axis=1)\n",
    "print('Accuracy on train set %f' % np.mean(y_pred == y_train))\n",
    "\n",
    "# evaluate performance of test set\n",
    "scores = X_test.dot(bestW)\n",
    "y_pred = np.argmax(scores, axis=1)\n",
    "print('Accuracy on test set %f' % np.mean(y_pred == y_test))"
   ]
  },
  {
   "cell_type": "markdown",
   "metadata": {},
   "source": [
    "Compare the performance when using random search with *regression classifier* and *softmax classifier*. You can see how much useful the softmax classifier is."
   ]
  },
  {
   "cell_type": "markdown",
   "metadata": {},
   "source": [
    "## Stochastic Gradient descent\n",
    "Even though it is possible to achieve closed-form solution with softmax classifier, it would be more complicated. In fact, we could achieve very good results with gradient descent approach. Additionally, in case of very large dataset, it is impossible to load the whole dataset into the memory. Gradient descent can help to optimize the loss function in batch. \n",
    "\n",
    "$$\\mathbf{W}^{t+1}=\\mathbf{W}^{t}−\\alpha \\frac{\\partial\\mathcal{L(\\mathbf{x};\\mathbf{W}^{t})}}{\\partial\\mathbf{W}^{t}}$$\n",
    "\n",
    "Where $\\alpha$ is the learning rate, $\\mathcal{L}$ is a loss function, and $\\mathbf{x}$ is a batch of training dataset."
   ]
  },
  {
   "cell_type": "code",
   "execution_count": 36,
   "metadata": {},
   "outputs": [
    {
     "name": "stdout",
     "output_type": "stream",
     "text": [
      "numerical: -1.657447 analytic: -1.657448, relative error: 1.635363e-08\n",
      "numerical: 1.997514 analytic: 1.997514, relative error: 1.457147e-08\n",
      "numerical: 1.641314 analytic: 1.641314, relative error: 4.446332e-09\n",
      "numerical: 0.132827 analytic: 0.132827, relative error: 3.530103e-07\n",
      "numerical: -1.041863 analytic: -1.041863, relative error: 3.089202e-08\n",
      "numerical: 0.123053 analytic: 0.123053, relative error: 2.813480e-07\n",
      "numerical: 1.205851 analytic: 1.205851, relative error: 1.107554e-08\n",
      "numerical: 1.003757 analytic: 1.003757, relative error: 3.081005e-08\n",
      "numerical: 0.583362 analytic: 0.583362, relative error: 9.184728e-09\n",
      "numerical: -1.375099 analytic: -1.375099, relative error: 6.447463e-08\n",
      "numerical: -0.764201 analytic: -0.764201, relative error: 4.947411e-08\n",
      "numerical: -1.631625 analytic: -1.631625, relative error: 2.368755e-08\n",
      "numerical: -1.658209 analytic: -1.658209, relative error: 1.384083e-08\n",
      "numerical: -2.112918 analytic: -2.112918, relative error: 2.950309e-08\n",
      "numerical: -0.357645 analytic: -0.357645, relative error: 2.473764e-07\n",
      "numerical: -2.731015 analytic: -2.731015, relative error: 2.760253e-09\n",
      "numerical: 3.508719 analytic: 3.508719, relative error: 3.265991e-09\n",
      "numerical: 1.495024 analytic: 1.495023, relative error: 4.161813e-08\n",
      "numerical: 3.664682 analytic: 3.664682, relative error: 2.959207e-09\n",
      "numerical: 0.872489 analytic: 0.872489, relative error: 1.227269e-07\n"
     ]
    }
   ],
   "source": [
    "# Complete the implementation of softmax_loss_naive and implement a (naive)\n",
    "# version of the gradient that uses nested loops.\n",
    "loss, grad = softmax_loss_naive(W, X_dev, y_dev, 0.0)\n",
    "\n",
    "# Use numeric gradient checking as a debugging tool.\n",
    "# The numeric gradient should be close to the analytic gradient.\n",
    "from gradient_check import grad_check_sparse\n",
    "f = lambda w: softmax_loss_naive(w, X_dev, y_dev, 0.0)[0]\n",
    "grad_numerical = grad_check_sparse(f, W, grad, 10)\n",
    "\n",
    "# gradient check with regularization\n",
    "loss, grad = softmax_loss_naive(W, X_dev, y_dev, 1e2)\n",
    "f = lambda w: softmax_loss_naive(w, X_dev, y_dev, 1e2)[0]\n",
    "grad_numerical = grad_check_sparse(f, W, grad, 10)"
   ]
  },
  {
   "cell_type": "code",
   "execution_count": 38,
   "metadata": {},
   "outputs": [
    {
     "name": "stdout",
     "output_type": "stream",
     "text": [
      "naive loss: 2.312146e+00 computed in 0.065305s\n",
      "vectorized loss: 2.312146e+00 computed in 0.001998s\n",
      "Loss difference: 0.000000\n",
      "Gradient difference: 0.000000\n"
     ]
    }
   ],
   "source": [
    "# Now that we have a naive implementation of the softmax loss function and its gradient,\n",
    "# implement a vectorized version in softmax_loss_vectorized.\n",
    "# The two versions should compute the same results, but the vectorized version should be\n",
    "# much faster.\n",
    "tic = time.time()\n",
    "loss_naive, grad_naive = softmax_loss_naive(W, X_dev, y_dev, 0.00001)\n",
    "toc = time.time()\n",
    "print('naive loss: %e computed in %fs' % (loss_naive, toc - tic))\n",
    "\n",
    "from classifiers.softmax import softmax_loss_vectorized\n",
    "tic = time.time()\n",
    "loss_vectorized, grad_vectorized = softmax_loss_vectorized(W, X_dev, y_dev, 0.00001)\n",
    "toc = time.time()\n",
    "print('vectorized loss: %e computed in %fs' % (loss_vectorized, toc - tic))\n",
    "\n",
    "# We use the Frobenius norm to compare the two versions\n",
    "# of the gradient.\n",
    "grad_difference = np.linalg.norm(grad_naive - grad_vectorized, ord='fro')\n",
    "print('Loss difference: %f' % np.abs(loss_naive - loss_vectorized))\n",
    "print('Gradient difference: %f' % grad_difference)"
   ]
  },
  {
   "cell_type": "code",
   "execution_count": 40,
   "metadata": {},
   "outputs": [
    {
     "name": "stdout",
     "output_type": "stream",
     "text": [
      "iteration 0 / 1500: loss 1515.043732\n",
      "iteration 100 / 1500: loss 203.931504\n",
      "iteration 200 / 1500: loss 29.078991\n",
      "iteration 300 / 1500: loss 5.765183\n",
      "iteration 400 / 1500: loss 2.667834\n",
      "iteration 500 / 1500: loss 2.212426\n",
      "iteration 600 / 1500: loss 2.094331\n",
      "iteration 700 / 1500: loss 2.192919\n",
      "iteration 800 / 1500: loss 2.140026\n",
      "iteration 900 / 1500: loss 2.198843\n",
      "iteration 1000 / 1500: loss 2.174332\n",
      "iteration 1100 / 1500: loss 2.134805\n",
      "iteration 1200 / 1500: loss 2.077088\n",
      "iteration 1300 / 1500: loss 2.169020\n",
      "iteration 1400 / 1500: loss 2.131170\n",
      "That took 5.711302s\n"
     ]
    }
   ],
   "source": [
    "from classifiers.linear_classifier import *\n",
    "\n",
    "classifier = Softmax()\n",
    "tic = time.time()\n",
    "loss_hist = classifier.train(X_train, y_train, learning_rate=1e-7, reg=5e4,\n",
    "                                  num_iters=1500, verbose=True)\n",
    "toc = time.time()\n",
    "print('That took %fs' % (toc - tic))"
   ]
  },
  {
   "cell_type": "code",
   "execution_count": 41,
   "metadata": {},
   "outputs": [
    {
     "name": "stdout",
     "output_type": "stream",
     "text": [
      "training accuracy: 0.303306\n",
      "validation accuracy: 0.326000\n"
     ]
    }
   ],
   "source": [
    "# Write the Softmax.predict function and evaluate the performance on both the\n",
    "# training and validation set\n",
    "y_train_pred = classifier.predict(X_train)\n",
    "print('training accuracy: %f' % (np.mean(y_train == y_train_pred), ))\n",
    "y_val_pred = classifier.predict(X_val)\n",
    "print('validation accuracy: %f' % (np.mean(y_val == y_val_pred), ))"
   ]
  },
  {
   "cell_type": "code",
   "execution_count": 42,
   "metadata": {},
   "outputs": [
    {
     "data": {
      "image/png": "[encoded data removed]",
      "text/plain": [
       "<Figure size 720x576 with 1 Axes>"
      ]
     },
     "metadata": {
      "needs_background": "light"
     },
     "output_type": "display_data"
    }
   ],
   "source": [
    "# A useful debugging strategy is to plot the loss as a function of\n",
    "# iteration number:\n",
    "plt.plot(loss_hist)\n",
    "plt.xlabel('Iteration number')\n",
    "plt.ylabel('Loss value')\n",
    "plt.show()"
   ]
  },
  {
   "cell_type": "code",
   "execution_count": 43,
   "metadata": {},
   "outputs": [
    {
     "name": "stdout",
     "output_type": "stream",
     "text": [
      "softmax on raw pixels final test set accuracy: 32.30\n"
     ]
    }
   ],
   "source": [
    "# evaluate on test set\n",
    "# Evaluate the best softmax on test set\n",
    "y_test_pred = classifier.predict(X_test)\n",
    "test_accuracy = np.mean(y_test == y_test_pred)\n",
    "print('softmax on raw pixels final test set accuracy: %.2f' % (100*test_accuracy, ))"
   ]
  }
 ],
 "metadata": {
  "anaconda-cloud": {},
  "kernelspec": {
   "display_name": "Python 3",
   "language": "python",
   "name": "python3"
  },
  "language_info": {
   "codemirror_mode": {
    "name": "ipython",
    "version": 3
   },
   "file_extension": ".py",
   "mimetype": "text/x-python",
   "name": "python",
   "nbconvert_exporter": "python",
   "pygments_lexer": "ipython3",
   "version": "3.7.6"
  }
 },
 "nbformat": 4,
 "nbformat_minor": 1
}
