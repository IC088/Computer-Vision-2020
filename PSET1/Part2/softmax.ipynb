{
 "cells": [
  {
   "cell_type": "markdown",
   "metadata": {},
   "source": [
    "# Softmax exercise\n",
    "\n",
    "*Complete and hand in this completed worksheet (including its outputs and any supporting code outside of the worksheet) with your assignment submission.*\n",
    "\n",
    "In this exercise, you will:\n",
    "\n",
    "- implement a fully-vectorized **loss function** for the Softmax classifier\n",
    "- implement the fully-vectorized expression for its **analytic gradient**\n",
    "- **check your implementation** with numerical gradient\n",
    "- use a validation set to **tune the learning rate and regularization** strength\n",
    "- **optimize** the loss function with **SGD**\n",
    "- **visualize** the final learned weights\n"
   ]
  },
  {
   "cell_type": "markdown",
   "metadata": {},
   "source": [
    "**Acknowledgement: This exercise is adapted from [Stanford CS231n](http://cs231n.stanford.edu/).**"
   ]
  },
  {
   "cell_type": "code",
   "execution_count": 1,
   "metadata": {},
   "outputs": [],
   "source": [
    "import random\n",
    "import numpy as np\n",
    "from data_utils import load_CIFAR10\n",
    "import matplotlib.pyplot as plt\n",
    "\n",
    "%matplotlib inline\n",
    "plt.rcParams['figure.figsize'] = (10.0, 8.0) # set default size of plots\n",
    "plt.rcParams['image.interpolation'] = 'nearest'\n",
    "plt.rcParams['image.cmap'] = 'gray'\n",
    "\n",
    "# for auto-reloading extenrnal modules\n",
    "# see http://stackoverflow.com/questions/1907993/autoreload-of-modules-in-ipython\n",
    "%load_ext autoreload\n",
    "%autoreload 2"
   ]
  },
  {
   "cell_type": "code",
   "execution_count": 2,
   "metadata": {},
   "outputs": [],
   "source": [
    "def rel_error(out, correct_out):\n",
    "    return np.sum(abs(out - correct_out) / (abs(out) + abs(correct_out)))"
   ]
  },
  {
   "cell_type": "code",
   "execution_count": 3,
   "metadata": {},
   "outputs": [
    {
     "name": "stdout",
     "output_type": "stream",
     "text": [
      "Train data shape:  (49000, 3073)\n",
      "Train labels shape:  (49000,)\n",
      "Validation data shape:  (1000, 3073)\n",
      "Validation labels shape:  (1000,)\n",
      "Test data shape:  (1000, 3073)\n",
      "Test labels shape:  (1000,)\n",
      "dev data shape:  (500, 3073)\n",
      "dev labels shape:  (500,)\n"
     ]
    }
   ],
   "source": [
    "def get_CIFAR10_data(num_training=49000, num_validation=1000, num_test=1000, num_dev=500):\n",
    "    \"\"\"\n",
    "    Load the CIFAR-10 dataset from disk and perform preprocessing to prepare\n",
    "    it for the linear classifier. These are the same steps as we used for the\n",
    "    Softmax, but condensed to a single function.  \n",
    "    \"\"\"\n",
    "    # Load the raw CIFAR-10 data\n",
    "    cifar10_dir = 'datasets/cifar-10-batches-py'\n",
    "    X_train, y_train, X_test, y_test = load_CIFAR10(cifar10_dir)\n",
    "\n",
    "    # subsample the data\n",
    "    mask = range(num_training, num_training + num_validation)\n",
    "    X_val = X_train[mask]\n",
    "    y_val = y_train[mask]\n",
    "    mask = range(num_training)\n",
    "    X_train = X_train[mask]\n",
    "    y_train = y_train[mask]\n",
    "    mask = range(num_test)\n",
    "    X_test = X_test[mask]\n",
    "    y_test = y_test[mask]\n",
    "    \n",
    "    # # We will also make a development set, which is a small subset of\n",
    "    # the training set.\n",
    "    mask = np.random.choice(num_training, num_dev, replace=False)\n",
    "    X_dev = X_train[mask]\n",
    "    y_dev = y_train[mask]\n",
    "\n",
    "    # Preprocessing: reshape the image data into rows\n",
    "    X_train = np.reshape(X_train, (X_train.shape[0], -1))\n",
    "    X_val = np.reshape(X_val, (X_val.shape[0], -1))\n",
    "    X_test = np.reshape(X_test, (X_test.shape[0], -1))\n",
    "    X_dev = np.reshape(X_dev, (X_dev.shape[0], -1))\n",
    "\n",
    "    # Normalize the data: subtract the mean image\n",
    "    mean_image = np.mean(X_train, axis = 0)\n",
    "    X_train -= mean_image\n",
    "    X_val -= mean_image\n",
    "    X_test -= mean_image\n",
    "    X_dev -= mean_image\n",
    "\n",
    "    # add bias dimension and transform into columns\n",
    "    X_train = np.hstack([X_train, np.ones((X_train.shape[0], 1))])\n",
    "    X_val = np.hstack([X_val, np.ones((X_val.shape[0], 1))])\n",
    "    X_test = np.hstack([X_test, np.ones((X_test.shape[0], 1))])\n",
    "    X_dev = np.hstack([X_dev, np.ones((X_dev.shape[0], 1))])\n",
    "\n",
    "    return X_train, y_train, X_val, y_val, X_test, y_test, X_dev, y_dev\n",
    "\n",
    "\n",
    "# Invoke the above function to get our data.\n",
    "X_train, y_train, X_val, y_val, X_test, y_test, X_dev, y_dev = get_CIFAR10_data()\n",
    "print('Train data shape: ', X_train.shape)\n",
    "print('Train labels shape: ', y_train.shape)\n",
    "print('Validation data shape: ', X_val.shape)\n",
    "print('Validation labels shape: ', y_val.shape)\n",
    "print('Test data shape: ', X_test.shape)\n",
    "print('Test labels shape: ', y_test.shape)\n",
    "print('dev data shape: ', X_dev.shape)\n",
    "print('dev labels shape: ', y_dev.shape)"
   ]
  },
  {
   "cell_type": "code",
   "execution_count": 4,
   "metadata": {},
   "outputs": [],
   "source": [
    "# Create one-hot vectors for label\n",
    "num_class = 10\n",
    "y_train_oh = np.zeros((y_train.shape[0], 10))\n",
    "y_train_oh[np.arange(y_train.shape[0]), y_train] = 1\n",
    "y_val_oh = np.zeros((y_val.shape[0], 10))\n",
    "y_val_oh[np.arange(y_val.shape[0]), y_val] = 1\n",
    "y_test_oh = np.zeros((y_test.shape[0], 10))\n",
    "y_test_oh[np.arange(y_test.shape[0]), y_test] = 1\n",
    "\n",
    "y_dev_oh = np.zeros((y_dev.shape[0], 10))\n",
    "y_dev_oh[np.arange(y_dev.shape[0]), y_dev] = 1"
   ]
  },
  {
   "cell_type": "markdown",
   "metadata": {},
   "source": [
    "# Regression as classifier\n",
    "The most simple and straightforward approach to learn a classifier is to map the input data (raw image values) to class label (one-hot vector). The loss function is defined as following: \n",
    "$$\\mathcal{L}=\\frac{1}{n}\\|\\mathbf{X}\\mathbf{W}-\\mathbf{y}\\|_F^2\\qquad\\qquad(1)$$\n",
    "Where:\n",
    "* $\\mathbf{W}\\in \\mathbb{R}^{(d+1)\\times C}$: Classifier weight\n",
    "* $\\mathbf{X}\\in \\mathbb{R}^{n\\times (d+1)}$: Dataset\n",
    "* $\\mathbf{y}\\in \\mathbb{R}^{n\\times C}$: Class label (one-hot vector)"
   ]
  },
  {
   "cell_type": "markdown",
   "metadata": {},
   "source": [
    "# Optimization\n",
    "Given the loss function (1), the next problem is how to solve the weight $\\mathbf{W}$. We now discuss 2 approaches: \n",
    " * Random search\n",
    " * Closed-form solution\n",
    "\n",
    "## Random search"
   ]
  },
  {
   "cell_type": "code",
   "execution_count": 5,
   "metadata": {},
   "outputs": [
    {
     "name": "stdout",
     "output_type": "stream",
     "text": [
      "in attempt 0 the loss was 34.404986, best 34.404986\n",
      "in attempt 1 the loss was 35.329282, best 34.404986\n",
      "in attempt 2 the loss was 35.467829, best 34.404986\n",
      "in attempt 3 the loss was 32.548231, best 32.548231\n",
      "in attempt 4 the loss was 33.112641, best 32.548231\n",
      "in attempt 5 the loss was 33.400327, best 32.548231\n",
      "in attempt 6 the loss was 34.054377, best 32.548231\n",
      "in attempt 7 the loss was 32.640685, best 32.548231\n",
      "in attempt 8 the loss was 31.649450, best 31.649450\n",
      "in attempt 9 the loss was 32.989100, best 31.649450\n",
      "in attempt 10 the loss was 32.807393, best 31.649450\n",
      "in attempt 11 the loss was 33.724693, best 31.649450\n",
      "in attempt 12 the loss was 34.478435, best 31.649450\n",
      "in attempt 13 the loss was 32.211720, best 31.649450\n",
      "in attempt 14 the loss was 32.728589, best 31.649450\n",
      "in attempt 15 the loss was 32.314752, best 31.649450\n",
      "in attempt 16 the loss was 32.047310, best 31.649450\n",
      "in attempt 17 the loss was 32.778386, best 31.649450\n",
      "in attempt 18 the loss was 33.286618, best 31.649450\n",
      "in attempt 19 the loss was 34.339522, best 31.649450\n",
      "in attempt 20 the loss was 32.322452, best 31.649450\n",
      "in attempt 21 the loss was 33.903232, best 31.649450\n",
      "in attempt 22 the loss was 36.029426, best 31.649450\n",
      "in attempt 23 the loss was 31.018843, best 31.018843\n",
      "in attempt 24 the loss was 36.003962, best 31.018843\n",
      "in attempt 25 the loss was 34.667074, best 31.018843\n",
      "in attempt 26 the loss was 31.790867, best 31.018843\n",
      "in attempt 27 the loss was 34.657558, best 31.018843\n",
      "in attempt 28 the loss was 32.425431, best 31.018843\n",
      "in attempt 29 the loss was 33.902822, best 31.018843\n",
      "in attempt 30 the loss was 33.037852, best 31.018843\n",
      "in attempt 31 the loss was 31.050412, best 31.018843\n",
      "in attempt 32 the loss was 31.990435, best 31.018843\n",
      "in attempt 33 the loss was 35.075686, best 31.018843\n",
      "in attempt 34 the loss was 33.019072, best 31.018843\n",
      "in attempt 35 the loss was 31.967267, best 31.018843\n",
      "in attempt 36 the loss was 33.342685, best 31.018843\n",
      "in attempt 37 the loss was 33.593213, best 31.018843\n",
      "in attempt 38 the loss was 32.795354, best 31.018843\n",
      "in attempt 39 the loss was 31.724765, best 31.018843\n",
      "in attempt 40 the loss was 32.804101, best 31.018843\n",
      "in attempt 41 the loss was 32.557206, best 31.018843\n",
      "in attempt 42 the loss was 33.605660, best 31.018843\n",
      "in attempt 43 the loss was 35.904422, best 31.018843\n",
      "in attempt 44 the loss was 32.567163, best 31.018843\n",
      "in attempt 45 the loss was 33.157176, best 31.018843\n",
      "in attempt 46 the loss was 34.867335, best 31.018843\n",
      "in attempt 47 the loss was 33.838619, best 31.018843\n",
      "in attempt 48 the loss was 35.593166, best 31.018843\n",
      "in attempt 49 the loss was 35.630457, best 31.018843\n",
      "in attempt 50 the loss was 31.860412, best 31.018843\n",
      "in attempt 51 the loss was 35.247655, best 31.018843\n",
      "in attempt 52 the loss was 32.496460, best 31.018843\n",
      "in attempt 53 the loss was 31.970195, best 31.018843\n",
      "in attempt 54 the loss was 32.030041, best 31.018843\n",
      "in attempt 55 the loss was 31.228055, best 31.018843\n",
      "in attempt 56 the loss was 32.176366, best 31.018843\n",
      "in attempt 57 the loss was 33.597782, best 31.018843\n",
      "in attempt 58 the loss was 34.951475, best 31.018843\n",
      "in attempt 59 the loss was 33.955808, best 31.018843\n",
      "in attempt 60 the loss was 36.366165, best 31.018843\n",
      "in attempt 61 the loss was 32.154071, best 31.018843\n",
      "in attempt 62 the loss was 33.524967, best 31.018843\n",
      "in attempt 63 the loss was 33.541899, best 31.018843\n",
      "in attempt 64 the loss was 33.942560, best 31.018843\n",
      "in attempt 65 the loss was 32.974237, best 31.018843\n",
      "in attempt 66 the loss was 33.920745, best 31.018843\n",
      "in attempt 67 the loss was 32.659366, best 31.018843\n",
      "in attempt 68 the loss was 34.985298, best 31.018843\n",
      "in attempt 69 the loss was 33.161455, best 31.018843\n",
      "in attempt 70 the loss was 34.748543, best 31.018843\n",
      "in attempt 71 the loss was 35.517236, best 31.018843\n",
      "in attempt 72 the loss was 33.287595, best 31.018843\n",
      "in attempt 73 the loss was 33.996758, best 31.018843\n",
      "in attempt 74 the loss was 32.596443, best 31.018843\n",
      "in attempt 75 the loss was 32.825465, best 31.018843\n",
      "in attempt 76 the loss was 32.809187, best 31.018843\n",
      "in attempt 77 the loss was 33.369950, best 31.018843\n",
      "in attempt 78 the loss was 34.220378, best 31.018843\n",
      "in attempt 79 the loss was 30.823767, best 30.823767\n",
      "in attempt 80 the loss was 33.968563, best 30.823767\n",
      "in attempt 81 the loss was 33.429828, best 30.823767\n",
      "in attempt 82 the loss was 33.216284, best 30.823767\n",
      "in attempt 83 the loss was 31.685574, best 30.823767\n",
      "in attempt 84 the loss was 36.223835, best 30.823767\n",
      "in attempt 85 the loss was 32.126161, best 30.823767\n",
      "in attempt 86 the loss was 33.779274, best 30.823767\n",
      "in attempt 87 the loss was 33.091900, best 30.823767\n",
      "in attempt 88 the loss was 31.292301, best 30.823767\n",
      "in attempt 89 the loss was 31.858208, best 30.823767\n",
      "in attempt 90 the loss was 31.821675, best 30.823767\n",
      "in attempt 91 the loss was 32.365264, best 30.823767\n",
      "in attempt 92 the loss was 31.892720, best 30.823767\n",
      "in attempt 93 the loss was 33.587867, best 30.823767\n",
      "in attempt 94 the loss was 33.786279, best 30.823767\n",
      "in attempt 95 the loss was 31.228264, best 30.823767\n",
      "in attempt 96 the loss was 30.965770, best 30.823767\n",
      "in attempt 97 the loss was 32.006622, best 30.823767\n",
      "in attempt 98 the loss was 33.532632, best 30.823767\n",
      "in attempt 99 the loss was 34.099049, best 30.823767\n"
     ]
    }
   ],
   "source": [
    "bestloss = float('inf')\n",
    "for num in range(100):\n",
    "    W = np.random.randn(3073, 10) * 0.0001\n",
    "    loss = np.linalg.norm(X_dev.dot(W) - y_dev_oh)\n",
    "    if (loss < bestloss):\n",
    "        bestloss = loss\n",
    "        bestW = W\n",
    "    print('in attempt %d the loss was %f, best %f' % (num, loss, bestloss))"
   ]
  },
  {
   "cell_type": "code",
   "execution_count": 6,
   "metadata": {},
   "outputs": [
    {
     "name": "stdout",
     "output_type": "stream",
     "text": [
      "Accuracy on train set:  12.2\n",
      "Accuracy on test set:  13.100000000000001\n"
     ]
    }
   ],
   "source": [
    "# How bestW perform:\n",
    "print('Accuracy on train set: ', np.sum(np.argmin(np.abs(1 - X_dev.dot(W)), axis=1) == y_dev).astype(np.float32)/y_dev.shape[0]*100)\n",
    "print('Accuracy on test set: ', np.sum(np.argmin(np.abs(1 - X_test.dot(W)), axis=1) == y_test).astype(np.float32)/y_test.shape[0]*100)"
   ]
  },
  {
   "cell_type": "markdown",
   "metadata": {},
   "source": [
    "You can clearly see that the performance is very low, almost at the random level."
   ]
  },
  {
   "cell_type": "markdown",
   "metadata": {},
   "source": [
    "## Closed-form solution\n",
    "The closed-form solution is achieved by:\n",
    "$$\\frac{\\partial\\mathcal{L}}{\\partial \\mathbf{W}}=\\frac{2}{n}\\mathbf{X}^T(\\mathbf{X}\\mathbf{W}-\\mathbf{y})=0$$\n",
    "\n",
    "$$\\Leftrightarrow\\mathbf{W}^\\ast=(\\mathbf{X}^T\\mathbf{X})^{-1}\\mathbf{X}^T\\mathbf{y}$$"
   ]
  },
  {
   "cell_type": "code",
   "execution_count": 7,
   "metadata": {},
   "outputs": [],
   "source": [
    "################################################################################\n",
    "# TODO:                                                                        #\n",
    "# Implement the closed-form solution of the weight W.                          #\n",
    "################################################################################\n",
    "def closed_form_colution(X,y):\n",
    "    \n",
    "    W_star = (np.linalg.inv(X.transpose().dot(X))).dot((X.transpose()).dot(y))\n",
    "    \n",
    "    return W_star\n",
    "W = closed_form_colution(X_train, y_train_oh)\n",
    "################################################################################\n",
    "#                              END OF YOUR CODE                                #\n",
    "################################################################################"
   ]
  },
  {
   "cell_type": "code",
   "execution_count": 8,
   "metadata": {},
   "outputs": [
    {
     "name": "stdout",
     "output_type": "stream",
     "text": [
      "Train set accuracy:  51.163265306122454\n",
      "Test set accuracy:  36.199999999999996\n"
     ]
    }
   ],
   "source": [
    "# Check accuracy:\n",
    "print('Train set accuracy: ', np.sum(np.argmin(np.abs(1 - X_train.dot(W)), axis=1) == y_train).astype(np.float32)/y_train.shape[0]*100)\n",
    "print('Test set accuracy: ', np.sum(np.argmin(np.abs(1 - X_test.dot(W)), axis=1) == y_test).astype(np.float32)/y_test.shape[0]*100)"
   ]
  },
  {
   "cell_type": "markdown",
   "metadata": {},
   "source": [
    "Now, you can see that the performance is much better."
   ]
  },
  {
   "cell_type": "markdown",
   "metadata": {},
   "source": [
    "## Regularization\n",
    "A simple way to improve performance is to include the L2-regularization penalty.\n",
    "$$\\mathcal{L}=\\frac{1}{n}\\|\\mathbf{X}\\mathbf{W}-\\mathbf{y}\\|_F^2 +\\lambda \\|\\mathbf{W}\\|_F^2 \\qquad\\qquad(2)$$\n",
    "The closed-form solution now is: \n",
    "$$\\Leftrightarrow\\mathbf{W}^\\ast=(\\mathbf{X}^T\\mathbf{X}+\\lambda n\\mathbf{I})^{-1}\\mathbf{X}^T\\mathbf{y}$$"
   ]
  },
  {
   "cell_type": "code",
   "execution_count": 9,
   "metadata": {},
   "outputs": [],
   "source": [
    "# try several values of lambda to see how it helps:\n",
    "\n",
    "lambdas = [0.01, 0.1, 1, 10, 100, 1000, 10000, 100000]\n",
    "train_acc = np.zeros((len(lambdas)))\n",
    "test_acc = np.zeros((len(lambdas)))\n",
    "for i in range(len(lambdas)):\n",
    "    l = lambdas[i]\n",
    "    n,d = X_train.shape[0], X_train.shape[1]\n",
    "    ################################################################################\n",
    "    # TODO:                                                                        #\n",
    "    # Implement the closed-form solution of the weight W with regularization.      #\n",
    "    ################################################################################\n",
    "    def reg_closed_form(X, y, l, n, d):\n",
    "        xxt =  np.linalg.inv(X.transpose().dot(X) + l * n * np.identity(d))\n",
    "        xty =  np.dot(X.transpose(), y)\n",
    "\n",
    "        return np.dot(xxt,xty)\n",
    "    W = reg_closed_form(X_dev, y_dev_oh, l, n , d)\n",
    "    ################################################################################\n",
    "    #                              END OF YOUR CODE                                #\n",
    "    ################################################################################\n",
    "    train_acc[i] = np.sum(np.argmin(np.abs(1 - X_train.dot(W)), axis=1) == y_train).astype(np.float32)/y_train.shape[0]*100\n",
    "    test_acc[i]  = np.sum(np.argmin(np.abs(1 - X_test.dot(W)), axis=1) == y_test).astype(np.float32)/y_test.shape[0]*100"
   ]
  },
  {
   "cell_type": "code",
   "execution_count": 10,
   "metadata": {},
   "outputs": [
    {
     "data": {
      "image/png": "[encoded data removed]",
      "text/plain": [
       "<Figure size 720x576 with 1 Axes>"
      ]
     },
     "metadata": {
      "needs_background": "light"
     },
     "output_type": "display_data"
    }
   ],
   "source": [
    "plt.semilogx(lambdas, train_acc, 'r', label=\"Training accuracy\")\n",
    "plt.semilogx(lambdas, test_acc, 'g', label=\"Testing accuracy\")\n",
    "\n",
    "plt.legend()\n",
    "plt.grid(True)\n",
    "plt.show()"
   ]
  },
  {
   "cell_type": "markdown",
   "metadata": {},
   "source": [
    "**Question:** Try to explain why the performances on the training and test set have such behaviors as we change the value of $\\lambda$."
   ]
  },
  {
   "cell_type": "markdown",
   "metadata": {},
   "source": [
    "**Your answer:** lambda is known as the regularisation constant which acts as the constant that prevents overfitting. Increasing the value of lambda, increases the reliance value on W. This increases the training and testing accuracy to a certain point. However, passed a certain point, if hte lambda value is too high it will not learn the features and hence lowering the training accuracy"
   ]
  },
  {
   "cell_type": "markdown",
   "metadata": {},
   "source": [
    "## Softmax Classifier\n",
    "\n",
    "The predicted probability for the $j$-th class given a sample vector $x$ and a weight $W$ is:\n",
    "\n",
    "$$\\displaystyle{P(y=j\\mid x)=\\frac{e^{-xw_j}}{\\sum\\limits_{c=1}^{C}e^{-xw_c}}}$$ \n",
    "\n",
    "![softmax](imgs/softmax.png \"Example of Softmax\")\n",
    "\n",
    "Your code for this section will all be written inside **classifiers/softmax.py**. \n"
   ]
  },
  {
   "cell_type": "code",
   "execution_count": 11,
   "metadata": {
    "scrolled": true
   },
   "outputs": [
    {
     "name": "stdout",
     "output_type": "stream",
     "text": [
      "loss: 2.408083\n",
      "sanity check: 2.302585\n"
     ]
    }
   ],
   "source": [
    "# First implement the naive softmax loss function with nested loops.\n",
    "# Open the file classifiers/softmax.py and implement the\n",
    "# softmax_loss_naive function.\n",
    "\n",
    "from classifiers.softmax import softmax_loss_naive\n",
    "import time\n",
    "\n",
    "# Generate a random softmax weight matrix and use it to compute the loss.\n",
    "W = np.random.randn(3073, 10) * 0.0001\n",
    "loss, grad = softmax_loss_naive(W, X_dev, y_dev, 0.0)\n",
    "\n",
    "# As a rough sanity check, our loss should be something close to -log(0.1).\n",
    "print('loss: %f' % loss)\n",
    "print('sanity check: %f' % (-np.log(0.1)))"
   ]
  },
  {
   "cell_type": "markdown",
   "metadata": {},
   "source": [
    "**Question:** Why do we expect our loss to be close to -log(0.1)? Explain briefly.**"
   ]
  },
  {
   "cell_type": "markdown",
   "metadata": {},
   "source": [
    "**Your answer:** \n",
    "\n",
    "We expect out loss to be close to - log(0.1) because there are 10 classes that needs to be predicted. The probability of choosing a classes and guessiing it correctly is 0.1 and since softmax function is essentially -log(x) where x is the probability, henec the loss should be close to -log(0.1) "
   ]
  },
  {
   "cell_type": "markdown",
   "metadata": {},
   "source": [
    "# Optimization\n",
    "\n",
    "\n",
    "## Random search"
   ]
  },
  {
   "cell_type": "code",
   "execution_count": 12,
   "metadata": {},
   "outputs": [
    {
     "name": "stdout",
     "output_type": "stream",
     "text": [
      "in attempt 0 the loss was 2.338096, best 2.338096\n",
      "in attempt 1 the loss was 2.347874, best 2.338096\n",
      "in attempt 2 the loss was 2.312287, best 2.312287\n",
      "in attempt 3 the loss was 2.422336, best 2.312287\n",
      "in attempt 4 the loss was 2.300741, best 2.300741\n",
      "in attempt 5 the loss was 2.307229, best 2.300741\n",
      "in attempt 6 the loss was 2.411734, best 2.300741\n",
      "in attempt 7 the loss was 2.381767, best 2.300741\n",
      "in attempt 8 the loss was 2.375250, best 2.300741\n",
      "in attempt 9 the loss was 2.401306, best 2.300741\n",
      "in attempt 10 the loss was 2.388605, best 2.300741\n",
      "in attempt 11 the loss was 2.412569, best 2.300741\n",
      "in attempt 12 the loss was 2.401569, best 2.300741\n",
      "in attempt 13 the loss was 2.394909, best 2.300741\n",
      "in attempt 14 the loss was 2.341294, best 2.300741\n",
      "in attempt 15 the loss was 2.394391, best 2.300741\n",
      "in attempt 16 the loss was 2.402083, best 2.300741\n",
      "in attempt 17 the loss was 2.338753, best 2.300741\n",
      "in attempt 18 the loss was 2.434222, best 2.300741\n",
      "in attempt 19 the loss was 2.332466, best 2.300741\n",
      "in attempt 20 the loss was 2.353899, best 2.300741\n",
      "in attempt 21 the loss was 2.365007, best 2.300741\n",
      "in attempt 22 the loss was 2.398444, best 2.300741\n",
      "in attempt 23 the loss was 2.316945, best 2.300741\n",
      "in attempt 24 the loss was 2.380888, best 2.300741\n",
      "in attempt 25 the loss was 2.361224, best 2.300741\n",
      "in attempt 26 the loss was 2.338931, best 2.300741\n",
      "in attempt 27 the loss was 2.365131, best 2.300741\n",
      "in attempt 28 the loss was 2.371755, best 2.300741\n",
      "in attempt 29 the loss was 2.377307, best 2.300741\n",
      "in attempt 30 the loss was 2.406622, best 2.300741\n",
      "in attempt 31 the loss was 2.339082, best 2.300741\n",
      "in attempt 32 the loss was 2.382107, best 2.300741\n",
      "in attempt 33 the loss was 2.387592, best 2.300741\n",
      "in attempt 34 the loss was 2.342901, best 2.300741\n",
      "in attempt 35 the loss was 2.324714, best 2.300741\n",
      "in attempt 36 the loss was 2.310027, best 2.300741\n",
      "in attempt 37 the loss was 2.366673, best 2.300741\n",
      "in attempt 38 the loss was 2.336561, best 2.300741\n",
      "in attempt 39 the loss was 2.339710, best 2.300741\n",
      "in attempt 40 the loss was 2.347390, best 2.300741\n",
      "in attempt 41 the loss was 2.318895, best 2.300741\n",
      "in attempt 42 the loss was 2.405233, best 2.300741\n",
      "in attempt 43 the loss was 2.366467, best 2.300741\n",
      "in attempt 44 the loss was 2.374457, best 2.300741\n",
      "in attempt 45 the loss was 2.310769, best 2.300741\n",
      "in attempt 46 the loss was 2.333582, best 2.300741\n",
      "in attempt 47 the loss was 2.302005, best 2.300741\n",
      "in attempt 48 the loss was 2.354562, best 2.300741\n",
      "in attempt 49 the loss was 2.338806, best 2.300741\n",
      "in attempt 50 the loss was 2.320400, best 2.300741\n",
      "in attempt 51 the loss was 2.357947, best 2.300741\n",
      "in attempt 52 the loss was 2.324811, best 2.300741\n",
      "in attempt 53 the loss was 2.337934, best 2.300741\n",
      "in attempt 54 the loss was 2.359947, best 2.300741\n",
      "in attempt 55 the loss was 2.378332, best 2.300741\n",
      "in attempt 56 the loss was 2.334134, best 2.300741\n",
      "in attempt 57 the loss was 2.341930, best 2.300741\n",
      "in attempt 58 the loss was 2.324638, best 2.300741\n",
      "in attempt 59 the loss was 2.335293, best 2.300741\n",
      "in attempt 60 the loss was 2.343643, best 2.300741\n",
      "in attempt 61 the loss was 2.333226, best 2.300741\n",
      "in attempt 62 the loss was 2.319451, best 2.300741\n",
      "in attempt 63 the loss was 2.328008, best 2.300741\n",
      "in attempt 64 the loss was 2.306291, best 2.300741\n",
      "in attempt 65 the loss was 2.359565, best 2.300741\n",
      "in attempt 66 the loss was 2.333386, best 2.300741\n",
      "in attempt 67 the loss was 2.373381, best 2.300741\n",
      "in attempt 68 the loss was 2.316606, best 2.300741\n",
      "in attempt 69 the loss was 2.373038, best 2.300741\n",
      "in attempt 70 the loss was 2.340873, best 2.300741\n",
      "in attempt 71 the loss was 2.353757, best 2.300741\n",
      "in attempt 72 the loss was 2.427233, best 2.300741\n",
      "in attempt 73 the loss was 2.406669, best 2.300741\n",
      "in attempt 74 the loss was 2.327463, best 2.300741\n",
      "in attempt 75 the loss was 2.453290, best 2.300741\n",
      "in attempt 76 the loss was 2.362379, best 2.300741\n",
      "in attempt 77 the loss was 2.366511, best 2.300741\n",
      "in attempt 78 the loss was 2.367602, best 2.300741\n",
      "in attempt 79 the loss was 2.348276, best 2.300741\n",
      "in attempt 80 the loss was 2.365047, best 2.300741\n",
      "in attempt 81 the loss was 2.388656, best 2.300741\n",
      "in attempt 82 the loss was 2.333051, best 2.300741\n",
      "in attempt 83 the loss was 2.405792, best 2.300741\n",
      "in attempt 84 the loss was 2.395072, best 2.300741\n",
      "in attempt 85 the loss was 2.305418, best 2.300741\n",
      "in attempt 86 the loss was 2.389697, best 2.300741\n",
      "in attempt 87 the loss was 2.323768, best 2.300741\n",
      "in attempt 88 the loss was 2.314024, best 2.300741\n",
      "in attempt 89 the loss was 2.337714, best 2.300741\n",
      "in attempt 90 the loss was 2.367947, best 2.300741\n",
      "in attempt 91 the loss was 2.347508, best 2.300741\n",
      "in attempt 92 the loss was 2.325622, best 2.300741\n",
      "in attempt 93 the loss was 2.403243, best 2.300741\n",
      "in attempt 94 the loss was 2.289592, best 2.289592\n",
      "in attempt 95 the loss was 2.335790, best 2.289592\n",
      "in attempt 96 the loss was 2.330951, best 2.289592\n",
      "in attempt 97 the loss was 2.365984, best 2.289592\n",
      "in attempt 98 the loss was 2.351286, best 2.289592\n",
      "in attempt 99 the loss was 2.337166, best 2.289592\n"
     ]
    }
   ],
   "source": [
    "bestloss = float('inf')\n",
    "for num in range(100):\n",
    "    W = np.random.randn(3073, 10) * 0.0001\n",
    "    loss, _ = softmax_loss_naive(W, X_dev, y_dev, 0.0)\n",
    "    if (loss < bestloss):\n",
    "        bestloss = loss\n",
    "        bestW = W\n",
    "    print('in attempt %d the loss was %f, best %f' % (num, loss, bestloss))"
   ]
  },
  {
   "cell_type": "code",
   "execution_count": 13,
   "metadata": {},
   "outputs": [
    {
     "name": "stdout",
     "output_type": "stream",
     "text": [
      "Accuracy on train set 0.139020\n",
      "Accuracy on test set 0.131000\n"
     ]
    }
   ],
   "source": [
    "# How bestW perform on trainset\n",
    "scores = X_train.dot(bestW)\n",
    "y_pred = np.argmax(scores, axis=1)\n",
    "print('Accuracy on train set %f' % np.mean(y_pred == y_train))\n",
    "\n",
    "# evaluate performance of test set\n",
    "scores = X_test.dot(bestW)\n",
    "y_pred = np.argmax(scores, axis=1)\n",
    "print('Accuracy on test set %f' % np.mean(y_pred == y_test))"
   ]
  },
  {
   "cell_type": "markdown",
   "metadata": {},
   "source": [
    "Compare the performance when using random search with *regression classifier* and *softmax classifier*. You can see how much useful the softmax classifier is."
   ]
  },
  {
   "cell_type": "markdown",
   "metadata": {},
   "source": [
    "## Stochastic Gradient descent\n",
    "Even though it is possible to achieve closed-form solution with softmax classifier, it would be more complicated. In fact, we could achieve very good results with gradient descent approach. Additionally, in case of very large dataset, it is impossible to load the whole dataset into the memory. Gradient descent can help to optimize the loss function in batch. \n",
    "\n",
    "$$\\mathbf{W}^{t+1}=\\mathbf{W}^{t}−\\alpha \\frac{\\partial\\mathcal{L(\\mathbf{x};\\mathbf{W}^{t})}}{\\partial\\mathbf{W}^{t}}$$\n",
    "\n",
    "Where $\\alpha$ is the learning rate, $\\mathcal{L}$ is a loss function, and $\\mathbf{x}$ is a batch of training dataset."
   ]
  },
  {
   "cell_type": "code",
   "execution_count": 14,
   "metadata": {},
   "outputs": [
    {
     "name": "stdout",
     "output_type": "stream",
     "text": [
      "numerical: 0.817081 analytic: 0.817081, relative error: 9.822995e-09\n",
      "numerical: 1.245304 analytic: 1.245304, relative error: 4.844105e-08\n",
      "numerical: -0.511664 analytic: -0.511664, relative error: 2.161012e-08\n",
      "numerical: -0.195503 analytic: -0.195503, relative error: 1.600982e-07\n",
      "numerical: -1.323227 analytic: -1.323227, relative error: 5.042988e-09\n",
      "numerical: -0.977605 analytic: -0.977605, relative error: 1.699593e-08\n",
      "numerical: 0.309520 analytic: 0.309520, relative error: 2.656325e-07\n",
      "numerical: -0.315846 analytic: -0.315846, relative error: 3.002025e-08\n",
      "numerical: -4.284969 analytic: -4.284969, relative error: 2.070072e-09\n",
      "numerical: 1.150603 analytic: 1.150603, relative error: 1.893304e-08\n",
      "numerical: -0.989501 analytic: -0.989501, relative error: 9.640941e-09\n",
      "numerical: 1.100485 analytic: 1.100485, relative error: 1.120836e-08\n",
      "numerical: -0.092426 analytic: -0.092427, relative error: 5.891261e-07\n",
      "numerical: -1.939052 analytic: -1.939052, relative error: 1.152535e-08\n",
      "numerical: -0.620132 analytic: -0.620132, relative error: 1.659857e-08\n",
      "numerical: 3.938532 analytic: 3.938532, relative error: 1.286354e-11\n",
      "numerical: 1.151892 analytic: 1.151892, relative error: 2.269715e-08\n",
      "numerical: 2.045618 analytic: 2.045618, relative error: 4.061542e-08\n",
      "numerical: 1.840056 analytic: 1.840056, relative error: 3.009128e-09\n",
      "numerical: 2.602232 analytic: 2.602232, relative error: 1.757401e-09\n"
     ]
    }
   ],
   "source": [
    "# Complete the implementation of softmax_loss_naive and implement a (naive)\n",
    "# version of the gradient that uses nested loops.\n",
    "loss, grad = softmax_loss_naive(W, X_dev, y_dev, 0.0)\n",
    "\n",
    "# Use numeric gradient checking as a debugging tool.\n",
    "# The numeric gradient should be close to the analytic gradient.\n",
    "from gradient_check import grad_check_sparse\n",
    "f = lambda w: softmax_loss_naive(w, X_dev, y_dev, 0.0)[0]\n",
    "grad_numerical = grad_check_sparse(f, W, grad, 10)\n",
    "\n",
    "# gradient check with regularization\n",
    "loss, grad = softmax_loss_naive(W, X_dev, y_dev, 1e2)\n",
    "f = lambda w: softmax_loss_naive(w, X_dev, y_dev, 1e2)[0]\n",
    "grad_numerical = grad_check_sparse(f, W, grad, 10)"
   ]
  },
  {
   "cell_type": "code",
   "execution_count": 15,
   "metadata": {},
   "outputs": [
    {
     "name": "stdout",
     "output_type": "stream",
     "text": [
      "naive loss: 2.337166e+00 computed in 0.065332s\n",
      "vectorized loss: 2.337166e+00 computed in 0.001997s\n",
      "Loss difference: 0.000000\n",
      "Gradient difference: 0.000000\n"
     ]
    }
   ],
   "source": [
    "# Now that we have a naive implementation of the softmax loss function and its gradient,\n",
    "# implement a vectorized version in softmax_loss_vectorized.\n",
    "# The two versions should compute the same results, but the vectorized version should be\n",
    "# much faster.\n",
    "tic = time.time()\n",
    "loss_naive, grad_naive = softmax_loss_naive(W, X_dev, y_dev, 0.00001)\n",
    "toc = time.time()\n",
    "print('naive loss: %e computed in %fs' % (loss_naive, toc - tic))\n",
    "\n",
    "from classifiers.softmax import softmax_loss_vectorized\n",
    "tic = time.time()\n",
    "loss_vectorized, grad_vectorized = softmax_loss_vectorized(W, X_dev, y_dev, 0.00001)\n",
    "toc = time.time()\n",
    "print('vectorized loss: %e computed in %fs' % (loss_vectorized, toc - tic))\n",
    "\n",
    "# We use the Frobenius norm to compare the two versions\n",
    "# of the gradient.\n",
    "grad_difference = np.linalg.norm(grad_naive - grad_vectorized, ord='fro')\n",
    "print('Loss difference: %f' % np.abs(loss_naive - loss_vectorized))\n",
    "print('Gradient difference: %f' % grad_difference)"
   ]
  },
  {
   "cell_type": "code",
   "execution_count": 16,
   "metadata": {},
   "outputs": [
    {
     "name": "stdout",
     "output_type": "stream",
     "text": [
      "iteration 0 / 1500: loss 1549.689876\n",
      "iteration 100 / 1500: loss 208.683439\n",
      "iteration 200 / 1500: loss 29.692151\n",
      "iteration 300 / 1500: loss 5.809844\n",
      "iteration 400 / 1500: loss 2.615519\n",
      "iteration 500 / 1500: loss 2.253828\n",
      "iteration 600 / 1500: loss 2.091076\n",
      "iteration 700 / 1500: loss 2.117374\n",
      "iteration 800 / 1500: loss 2.126627\n",
      "iteration 900 / 1500: loss 2.071152\n",
      "iteration 1000 / 1500: loss 2.177468\n",
      "iteration 1100 / 1500: loss 2.117094\n",
      "iteration 1200 / 1500: loss 2.104346\n",
      "iteration 1300 / 1500: loss 2.158121\n",
      "iteration 1400 / 1500: loss 2.143723\n",
      "That took 5.479347s\n"
     ]
    }
   ],
   "source": [
    "from classifiers.linear_classifier import *\n",
    "\n",
    "classifier = Softmax()\n",
    "tic = time.time()\n",
    "loss_hist = classifier.train(X_train, y_train, learning_rate=1e-7, reg=5e4,\n",
    "                                  num_iters=1500, verbose=True)\n",
    "toc = time.time()\n",
    "print('That took %fs' % (toc - tic))"
   ]
  },
  {
   "cell_type": "code",
   "execution_count": 17,
   "metadata": {},
   "outputs": [
    {
     "name": "stdout",
     "output_type": "stream",
     "text": [
      "training accuracy: 0.310449\n",
      "validation accuracy: 0.328000\n"
     ]
    }
   ],
   "source": [
    "# Write the Softmax.predict function and evaluate the performance on both the\n",
    "# training and validation set\n",
    "y_train_pred = classifier.predict(X_train)\n",
    "print('training accuracy: %f' % (np.mean(y_train == y_train_pred), ))\n",
    "y_val_pred = classifier.predict(X_val)\n",
    "print('validation accuracy: %f' % (np.mean(y_val == y_val_pred), ))"
   ]
  },
  {
   "cell_type": "code",
   "execution_count": 18,
   "metadata": {},
   "outputs": [
    {
     "data": {
      "image/png": "[encoded data removed]",
      "text/plain": [
       "<Figure size 720x576 with 1 Axes>"
      ]
     },
     "metadata": {
      "needs_background": "light"
     },
     "output_type": "display_data"
    }
   ],
   "source": [
    "# A useful debugging strategy is to plot the loss as a function of\n",
    "# iteration number:\n",
    "plt.plot(loss_hist)\n",
    "plt.xlabel('Iteration number')\n",
    "plt.ylabel('Loss value')\n",
    "plt.show()"
   ]
  },
  {
   "cell_type": "code",
   "execution_count": 19,
   "metadata": {},
   "outputs": [
    {
     "name": "stdout",
     "output_type": "stream",
     "text": [
      "softmax on raw pixels final test set accuracy: 32.10\n"
     ]
    }
   ],
   "source": [
    "# evaluate on test set\n",
    "# Evaluate the best softmax on test set\n",
    "y_test_pred = classifier.predict(X_test)\n",
    "test_accuracy = np.mean(y_test == y_test_pred)\n",
    "print('softmax on raw pixels final test set accuracy: %.2f' % (100*test_accuracy, ))"
   ]
  }
 ],
 "metadata": {
  "anaconda-cloud": {},
  "kernelspec": {
   "display_name": "Python 3",
   "language": "python",
   "name": "python3"
  },
  "language_info": {
   "codemirror_mode": {
    "name": "ipython",
    "version": 3
   },
   "file_extension": ".py",
   "mimetype": "text/x-python",
   "name": "python",
   "nbconvert_exporter": "python",
   "pygments_lexer": "ipython3",
   "version": "3.7.6"
  }
 },
 "nbformat": 4,
 "nbformat_minor": 1
}
